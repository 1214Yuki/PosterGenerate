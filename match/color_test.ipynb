{
 "cells": [
  {
   "cell_type": "code",
   "execution_count": 5,
   "metadata": {},
   "outputs": [],
   "source": [
    "import colorsys\n",
    "from PIL import Image, ImageDraw\n",
    "import matplotlib.pyplot as plt\n",
    "\n",
    "color_number = 10\n",
    "\n",
    "def color_visualize(main_color, matched_colors):\n",
    "    \"\"\"\n",
    "    :param main_color: user input color, should be rgb color, with value between [0, 255], like [126, 45, 200]\n",
    "    :param matched_colors: matched colors calculated by the program\n",
    "    :return: \n",
    "    \"\"\"\n",
    "    canvas = Image.new('RGB', (100 * color_number, 200), (255, 255, 255))\n",
    "    draw = ImageDraw.Draw(canvas)\n",
    "    for i, item in enumerate(matched_colors):\n",
    "        draw.rectangle((i*100, 100, i* 100 + 100, 200), tuple(item))\n",
    "    \n",
    "    # add input color\n",
    "    draw.rectangle((0, 0, 100 * color_number + 100, 100 ), tuple(main_color))\n",
    "\n",
    "    return canvas"
   ]
  },
  {
   "cell_type": "code",
   "execution_count": 11,
   "metadata": {},
   "outputs": [
    {
     "data": {
      "image/png": "[encoded data removed]",
      "text/plain": [
       "<PIL.Image.Image image mode=RGB size=500x200 at 0x118A42F10>"
      ]
     },
     "execution_count": 11,
     "metadata": {},
     "output_type": "execute_result"
    }
   ],
   "source": [
    "# X模型\n",
    "color_visualize((220, 212, 197), [[220, 197, 199], [210, 220, 197], [197, 220, 217], [197, 199, 220], [206, 197, 220]])"
   ]
  },
  {
   "cell_type": "code",
   "execution_count": 10,
   "metadata": {},
   "outputs": [
    {
     "data": {
      "image/png": "[encoded data removed]",
      "text/plain": [
       "<PIL.Image.Image image mode=RGB size=500x200 at 0x1102C7990>"
      ]
     },
     "execution_count": 10,
     "metadata": {},
     "output_type": "execute_result"
    }
   ],
   "source": [
    "# Y模型\n",
    "color_visualize((220, 212, 197), [[220, 197, 199], [220, 206, 197], [220, 217, 197], [210, 220, 197], [197, 208, 220]])"
   ]
  },
  {
   "cell_type": "code",
   "execution_count": 14,
   "metadata": {},
   "outputs": [
    {
     "data": {
      "image/png": "[encoded data removed]",
      "text/plain": [
       "<PIL.Image.Image image mode=RGB size=500x200 at 0x118A50D10>"
      ]
     },
     "execution_count": 14,
     "metadata": {},
     "output_type": "execute_result"
    }
   ],
   "source": [
    "# L模型\n",
    "# color_visualize((234, 235, 222), [[235, 234, 222], [223, 235, 222], [222, 235, 226], [222, 235, 232], [222, 231, 235]])\n",
    "\n",
    "color_visualize((242, 60, 53), [[242, 53, 193], [242, 53, 95], [242, 109, 53], [242, 207, 53], [53, 242, 220]])"
   ]
  },
  {
   "cell_type": "code",
   "execution_count": 6,
   "metadata": {},
   "outputs": [
    {
     "data": {
      "image/png": "[encoded data removed]",
      "text/plain": [
       "<PIL.Image.Image image mode=RGB size=1000x200 at 0x11D49CAD0>"
      ]
     },
     "execution_count": 6,
     "metadata": {},
     "output_type": "execute_result"
    }
   ],
   "source": [
    "# I模型\n",
    "color_visualize((227, 188, 188), [[204, 164, 170], [183, 144, 148], [165, 127, 126], [148, 113, 110], [134, 101, 96], [82, 120, 114], [71, 108, 105], [60, 96, 97], [51, 84, 87], [42, 73, 79]])"
   ]
  },
  {
   "cell_type": "code",
   "execution_count": 21,
   "metadata": {},
   "outputs": [],
   "source": [
    "\n",
    "\n",
    "def calculate_matched_hue(main_hue, cover_degree, number):\n",
    "    \"\"\"\n",
    "    :param main_hue:\n",
    "    :param cover_degree:\n",
    "    :param number:\n",
    "    :return:\n",
    "    \"\"\"\n",
    "    if number <= 0:\n",
    "        return []\n",
    "\n",
    "    result = []\n",
    "    left_hue = main_hue - cover_degree / 360. / 2\n",
    "\n",
    "    if left_hue < 0:\n",
    "        left_hue += 1\n",
    "\n",
    "    if number == 1:\n",
    "        return [left_hue]\n",
    "\n",
    "    # 当返回奇数个颜色，计算结果会包含原本的，所以多算一个\n",
    "    num = number + number % 2\n",
    "\n",
    "    for i in range(num):\n",
    "        result.append(left_hue + cover_degree / (num - 1) / 360. * i)\n",
    "\n",
    "    # 将多算的一个去掉\n",
    "    if number % 2 == 1:\n",
    "        del result[int(number/2)]\n",
    "\n",
    "    # 如果hue值超过了[0, 1]的范围，则修正\n",
    "    for i in range(len(result)):\n",
    "        if result[i] < 0:\n",
    "            result[i] += 1\n",
    "        if result[i] > 1:\n",
    "            result[i] -= 1\n",
    "\n",
    "    return result\n",
    "\n",
    "\n",
    "def color_match_harmony(input_color, mode='Y', number=4):\n",
    "    \"\"\"\n",
    "    :param input_color:\n",
    "    :param mode:\n",
    "    :return:\n",
    "    \"\"\"\n",
    "    if mode not in ['i', 'V', 'L', 'I', 'T', 'Y', 'X']:\n",
    "        raise ValueError('Invalid harmony color match mode \"%s\".' % mode)\n",
    "\n",
    "    color_rgb = input_color\n",
    "    color_hsv = list(colorsys.rgb_to_hsv(color_rgb[0], color_rgb[1], color_rgb[2]))\n",
    "    color_hsv[2] = color_hsv[2] / 255.\n",
    "\n",
    "    result_hue = None\n",
    "\n",
    "    if mode == 'i':\n",
    "        result_hue = calculate_matched_hue(main_hue=color_hsv[0], cover_degree=18, number=number)\n",
    "    elif mode == 'V':\n",
    "        result_hue = calculate_matched_hue(main_hue=color_hsv[0], cover_degree=93.6, number=number)\n",
    "    elif mode == 'L':\n",
    "        first_part_percentage = 18 / (18 + 79.2)\n",
    "        first_part_num = int(number * first_part_percentage)\n",
    "        first_part_num = first_part_num if first_part_num > 0 else (first_part_num + 1)\n",
    "        result_hue_1 = calculate_matched_hue(main_hue=color_hsv[0], cover_degree=18, number=first_part_num)\n",
    "        second_hue = color_hsv[0] + 0.25\n",
    "        second_hue = second_hue if second_hue <= 1 else (second_hue - 1)\n",
    "        result_hue_2 = calculate_matched_hue(main_hue=second_hue, cover_degree=79.2, number=number - first_part_num)\n",
    "        result_hue = result_hue_1 + result_hue_2\n",
    "    elif mode == 'I':\n",
    "        first_part_num = int(number / 2)\n",
    "        result_hue_1 = calculate_matched_hue(main_hue=color_hsv[0], cover_degree=18, number=first_part_num)\n",
    "        opposite_hue = color_hsv[0] + 0.5\n",
    "        opposite_hue = opposite_hue if opposite_hue <= 1 else (opposite_hue - 1)\n",
    "        result_hue_2 = calculate_matched_hue(main_hue=opposite_hue, cover_degree=18, number=number - first_part_num)\n",
    "        result_hue = result_hue_1 + result_hue_2\n",
    "    elif mode == 'T':\n",
    "        result_hue = calculate_matched_hue(main_hue=color_hsv[0], cover_degree=180, number=number)\n",
    "    elif mode == 'Y':\n",
    "        second_part_percentage = 18 / (18 + 79.2)\n",
    "        second_part_num = int(number * second_part_percentage)\n",
    "        second_part_num = second_part_num if second_part_num > 0 else (second_part_num + 1)\n",
    "        result_hue_1 = calculate_matched_hue(main_hue=color_hsv[0], cover_degree=93.6, number=number - second_part_num)\n",
    "        opposite_hue = color_hsv[0] + 0.5\n",
    "        opposite_hue = opposite_hue if opposite_hue <= 1 else (opposite_hue - 1)\n",
    "        result_hue_2 = calculate_matched_hue(main_hue=opposite_hue, cover_degree=18, number=second_part_num)\n",
    "        result_hue = result_hue_1 + result_hue_2\n",
    "    elif mode == 'X':\n",
    "        first_part_num = int(number / 2)\n",
    "        result_hue_1 = calculate_matched_hue(main_hue=color_hsv[0], cover_degree=93.6, number=first_part_num)\n",
    "        opposite_hue = color_hsv[0] + 0.5\n",
    "        opposite_hue = opposite_hue if opposite_hue <= 1 else (opposite_hue - 1)\n",
    "        result_hue_2 = calculate_matched_hue(main_hue=opposite_hue, cover_degree=93.6, number=number - first_part_num)\n",
    "        result_hue = result_hue_1 + result_hue_2\n",
    "    else:\n",
    "        raise ValueError('Invalid color match mode \"%s\".' % mode)\n",
    "\n",
    "    result = []\n",
    "    for item in result_hue:\n",
    "        color_hsv[1] = color_hsv[1] if color_hsv[1] > 0.8 else color_hsv[1] * 1.1\n",
    "        color_hsv[2] = color_hsv[2] * 0.9 if color_hsv[2] > 0.8 else color_hsv[2]\n",
    "        result.append([item, color_hsv[1], color_hsv[2]])\n",
    "\n",
    "    for i, item in enumerate(result):\n",
    "        rgb_color = list(colorsys.hsv_to_rgb(item[0], item[1], item[2]))\n",
    "        for j in range(len(rgb_color)):\n",
    "            rgb_color[j] = int(rgb_color[j] * 255)\n",
    "        result[i] = rgb_color\n",
    "\n",
    "    return result"
   ]
  },
  {
   "cell_type": "code",
   "execution_count": 54,
   "metadata": {},
   "outputs": [],
   "source": [
    "color = (255, 234, 206)"
   ]
  },
  {
   "cell_type": "code",
   "execution_count": 55,
   "metadata": {},
   "outputs": [
    {
     "data": {
      "image/png": "[encoded data removed]",
      "text/plain": [
       "<PIL.Image.Image image mode=RGB size=1000x200 at 0x11D4CF0D0>"
      ]
     },
     "execution_count": 55,
     "metadata": {},
     "output_type": "execute_result"
    }
   ],
   "source": [
    "color_visualize(color, color_match_harmony(color, mode='I', number=10))"
   ]
  },
  {
   "cell_type": "code",
   "execution_count": 56,
   "metadata": {},
   "outputs": [
    {
     "data": {
      "image/png": "[encoded data removed]",
      "text/plain": [
       "<PIL.Image.Image image mode=RGB size=1000x200 at 0x11D4CFF10>"
      ]
     },
     "execution_count": 56,
     "metadata": {},
     "output_type": "execute_result"
    }
   ],
   "source": [
    "color_visualize(color, color_match_harmony(color, mode='Y', number=10))"
   ]
  },
  {
   "cell_type": "code",
   "execution_count": 57,
   "metadata": {},
   "outputs": [
    {
     "data": {
      "image/png": "[encoded data removed]",
      "text/plain": [
       "<PIL.Image.Image image mode=RGB size=1000x200 at 0x110559210>"
      ]
     },
     "execution_count": 57,
     "metadata": {},
     "output_type": "execute_result"
    }
   ],
   "source": [
    "color_visualize(color, color_match_harmony(color, mode='X', number=10))"
   ]
  },
  {
   "cell_type": "code",
   "execution_count": 59,
   "metadata": {},
   "outputs": [
    {
     "data": {
      "image/png": "[encoded data removed]",
      "text/plain": [
       "<PIL.Image.Image image mode=RGB size=1000x200 at 0x11D4B2FD0>"
      ]
     },
     "execution_count": 59,
     "metadata": {},
     "output_type": "execute_result"
    }
   ],
   "source": [
    "color_visualize(color, color_match_harmony(color, mode='L', number=10))"
   ]
  },
  {
   "cell_type": "code",
   "execution_count": 60,
   "metadata": {},
   "outputs": [
    {
     "data": {
      "image/png": "[encoded data removed]",
      "text/plain": [
       "<PIL.Image.Image image mode=RGB size=1000x200 at 0x11D49CBD0>"
      ]
     },
     "execution_count": 60,
     "metadata": {},
     "output_type": "execute_result"
    }
   ],
   "source": [
    "color_visualize(color, color_match_harmony(color, mode='T', number=10))"
   ]
  },
  {
   "cell_type": "code",
   "execution_count": 61,
   "metadata": {},
   "outputs": [
    {
     "data": {
      "image/png": "[encoded data removed]",
      "text/plain": [
       "<PIL.Image.Image image mode=RGB size=1000x200 at 0x11D49CF10>"
      ]
     },
     "execution_count": 61,
     "metadata": {},
     "output_type": "execute_result"
    }
   ],
   "source": [
    "color_visualize(color, color_match_harmony(color, mode='V', number=10))"
   ]
  },
  {
   "cell_type": "code",
   "execution_count": null,
   "metadata": {},
   "outputs": [],
   "source": []
  }
 ],
 "metadata": {
  "kernelspec": {
   "display_name": "Python 3",
   "language": "python",
   "name": "python3"
  },
  "language_info": {
   "codemirror_mode": {
    "name": "ipython",
    "version": 3
   },
   "file_extension": ".py",
   "mimetype": "text/x-python",
   "name": "python",
   "nbconvert_exporter": "python",
   "pygments_lexer": "ipython3",
   "version": "3.7.5"
  },
  "pycharm": {
   "stem_cell": {
    "cell_type": "raw",
    "source": [
     "x\n"
    ],
    "metadata": {
     "collapsed": false
    }
   }
  }
 },
 "nbformat": 4,
 "nbformat_minor": 4
}